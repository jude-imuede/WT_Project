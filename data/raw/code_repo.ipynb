{
 "cells": [
  {
   "cell_type": "code",
   "execution_count": null,
   "metadata": {},
   "outputs": [],
   "source": [
    "## Collect Tweets and Desired Attributes\n",
    "\n",
    "print(\"---------------------------------------------------------\")\n",
    "print(\"Collecting Tweets\")\n",
    "for tweet in tweepy.Cursor(api.search,q=\"Wits -filter:retweets\", count=5000,\n",
    "#tweets = tweepy.Cursor(api.search,q=\"WITS OR WitsExam OR Wits OR WitsUniversity OR WITSUniversity OR University of the Witwatersrand OR Witsie OR WitsEntrolment OR AdamHabib -filter:retweets\",count=10,\n",
    "                       lang=\"en\",\n",
    "                       start_date = datetime.datetime(2019, 6, 1, 0, 0, 0)\n",
    "                       end_date =   datetime.datetime(2020, 1, 1, 0, 0, 0)\n",
    "                       tweet_mode = 'extended',\n",
    "                \n",
    "                           include_entities=True).items():  \n",
    "    \n",
    "    tweet_hashtags = ''\n",
    "    \n",
    "    \n",
    "    if tweet.entities['hashtags'] == []: # no hash tag\n",
    "        tweet_hashtags = None\n",
    "    else:\n",
    "        tweet_hashtags = \"-\".join([ dic['text'] for dic in tweet.entities['hashtags']])\n",
    "    \n",
    "\n",
    "#for tweet in results:\n",
    "#print(tweet.get('user', {}).get('location', {}))\n",
    "    \n",
    "# Extract Tweet Attributes in these Sequence\n",
    "    location = tweet.user.location\n",
    "    #print(location)\n",
    "    tweet_time  = tweet.created_at\n",
    "    twitter_user = tweet.user.screen_name\n",
    "    tweet_url = \"https://twitter.com/\" +twitter_user +\"/status/\"+ tweet.id_str\n",
    "    tweet_text =  tweet.full_text\n",
    "\n",
    "\n",
    "    # Create Record for the collected Tweet in the form of a DataFrame\n",
    "    tweet_record = [tweet_time, twitter_user, tweet_text.strip(), tweet_url, location,tweet_hashtags]\n",
    "\n",
    "    # Append the Tweet Record to the CSV File\n",
    "    csvWriter.writerow(tweet_record)\n",
    "\n",
    "print(\"Done Collecting Tweets\")\n",
    "print(\"---------------------------------------------------------\")"
   ]
  },
  {
   "cell_type": "code",
   "execution_count": null,
   "metadata": {},
   "outputs": [],
   "source": [
    "# for tweet in tweepy.Cursor(api.search,q=\"WITS OR Witsaccommodation OR WitsAccommodation OR WitsExam OR wits OR WitsUniversity OR WITSUniversity OR University of the Witwatersrand OR Witsie OR WitsEnrolment OR AdamHabib\",count=100,\\\n",
    "#                            lang=\"en\",\\\n",
    "#                            since_id=2014-6-12).items():\n",
    "#                            #tweet_mode = 'extended',\n",
    "        \n",
    "#             print(tweet.created_at, tweet.text)\n",
    "#             csvWriter.writerow([tweet.created_at, tweet.text.encode('utf-8')])"
   ]
  }
 ],
 "metadata": {
  "kernelspec": {
   "display_name": "Python 3",
   "language": "python",
   "name": "python3"
  },
  "language_info": {
   "codemirror_mode": {
    "name": "ipython",
    "version": 3
   },
   "file_extension": ".py",
   "mimetype": "text/x-python",
   "name": "python",
   "nbconvert_exporter": "python",
   "pygments_lexer": "ipython3",
   "version": "3.7.4"
  }
 },
 "nbformat": 4,
 "nbformat_minor": 4
}
