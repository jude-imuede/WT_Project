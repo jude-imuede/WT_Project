{
 "cells": [
  {
   "cell_type": "markdown",
   "metadata": {},
   "source": [
    "## 2. Twitter Data Cleaning\n",
    "---"
   ]
  },
  {
   "cell_type": "markdown",
   "metadata": {},
   "source": [
    "### 2.1: Import expected libraries for processing\n",
    "\n",
    "___"
   ]
  },
  {
   "cell_type": "code",
   "execution_count": 1,
   "metadata": {},
   "outputs": [],
   "source": [
    "import pandas as pd\n",
    "import re\n",
    "import glob\n",
    "import numpy as np\n",
    "import datetime\n",
    "import random"
   ]
  },
  {
   "cell_type": "code",
   "execution_count": 2,
   "metadata": {},
   "outputs": [],
   "source": [
    "#timestamp = datetime.datetime.now().strftime(\"%Y-%m-%d %H:%M:%S\")"
   ]
  },
  {
   "cell_type": "markdown",
   "metadata": {},
   "source": [
    "### 2.2: Use saved file as Input file for processing \n",
    "\n",
    "____"
   ]
  },
  {
   "cell_type": "code",
   "execution_count": 3,
   "metadata": {},
   "outputs": [],
   "source": [
    "# Define input and output files \n",
    "input_file = '../data/raw/tweets.csv'\n",
    "#input_dir = r'../data/raw/tweets.csv' # use your path\n",
    "#output_file = '../data/cleaned/WitsTweets-'+timestamp+'.csv'\n",
    "output_file = '../data/cleaned/WitsTweets.csv'"
   ]
  },
  {
   "cell_type": "code",
   "execution_count": 4,
   "metadata": {},
   "outputs": [],
   "source": [
    "col_names = ['Date', 'User', 'Tweet', 'Url', 'Location', 'Hashtags']\n",
    "# all_files = glob.glob(input_dir + \"/*.csv\")\n",
    "\n",
    "# li = []\n",
    "\n",
    "# for filename in all_files:\n",
    "#     df = pd.read_csv(filename, names = col_names)\n",
    "#     print(df.shape)\n",
    "#     li.append(df)\n",
    "\n",
    "# data = pd.concat(li, axis=0, ignore_index=True)\n",
    "# print(data.shape)\n",
    "# data.drop_duplicates(subset = \"Url\", inplace =True)\n",
    "# print(data.shape)\n",
    "# data.head()\n"
   ]
  },
  {
   "cell_type": "markdown",
   "metadata": {},
   "source": [
    "### 2.2.1: Basic Text Cleaning\n",
    "\n",
    "For basic text cleaning we remove user mentions and unnecesary white spaces from the tweets and convert all the text to lowercase.\n",
    "____"
   ]
  },
  {
   "cell_type": "code",
   "execution_count": 5,
   "metadata": {},
   "outputs": [
    {
     "data": {
      "text/html": [
       "<div>\n",
       "<style scoped>\n",
       "    .dataframe tbody tr th:only-of-type {\n",
       "        vertical-align: middle;\n",
       "    }\n",
       "\n",
       "    .dataframe tbody tr th {\n",
       "        vertical-align: top;\n",
       "    }\n",
       "\n",
       "    .dataframe thead th {\n",
       "        text-align: right;\n",
       "    }\n",
       "</style>\n",
       "<table border=\"1\" class=\"dataframe\">\n",
       "  <thead>\n",
       "    <tr style=\"text-align: right;\">\n",
       "      <th></th>\n",
       "      <th>Date</th>\n",
       "      <th>User</th>\n",
       "      <th>Tweet</th>\n",
       "      <th>Url</th>\n",
       "      <th>Location</th>\n",
       "      <th>Hashtags</th>\n",
       "    </tr>\n",
       "  </thead>\n",
       "  <tbody>\n",
       "    <tr>\n",
       "      <td>0</td>\n",
       "      <td>2020-03-05 12:38:42</td>\n",
       "      <td>Deni707</td>\n",
       "      <td>The protests sparked last week by University o...</td>\n",
       "      <td>https://twitter.com/Deni707/status/12355452719...</td>\n",
       "      <td>NaN</td>\n",
       "      <td>NaN</td>\n",
       "    </tr>\n",
       "    <tr>\n",
       "      <td>1</td>\n",
       "      <td>2020-03-05 12:38:18</td>\n",
       "      <td>pearl_ndlalane</td>\n",
       "      <td>@Katlego_MS @Yessirmaa -Wits</td>\n",
       "      <td>https://twitter.com/pearl_ndlalane/status/1235...</td>\n",
       "      <td>Rustenburg, South Africa</td>\n",
       "      <td>NaN</td>\n",
       "    </tr>\n",
       "    <tr>\n",
       "      <td>2</td>\n",
       "      <td>2020-03-05 12:37:37</td>\n",
       "      <td>mrlechesa</td>\n",
       "      <td>RT @NotInMyWatch: Students at Wits are going t...</td>\n",
       "      <td>https://twitter.com/mrlechesa/status/123554499...</td>\n",
       "      <td>Johannesburg</td>\n",
       "      <td>NaN</td>\n",
       "    </tr>\n",
       "    <tr>\n",
       "      <td>3</td>\n",
       "      <td>2020-03-05 12:37:34</td>\n",
       "      <td>PhilarN_91</td>\n",
       "      <td>RT @Didi_Azania: ATT: Wits students! This is h...</td>\n",
       "      <td>https://twitter.com/PhilarN_91/status/12355449...</td>\n",
       "      <td>Midrand, South Africa</td>\n",
       "      <td>NaN</td>\n",
       "    </tr>\n",
       "    <tr>\n",
       "      <td>4</td>\n",
       "      <td>2020-03-05 12:37:33</td>\n",
       "      <td>Maliwa_Luyanda</td>\n",
       "      <td>RT @Katlego_MS: Brand Ambassadors  needed from...</td>\n",
       "      <td>https://twitter.com/Maliwa_Luyanda/status/1235...</td>\n",
       "      <td>PE | CPT</td>\n",
       "      <td>NaN</td>\n",
       "    </tr>\n",
       "  </tbody>\n",
       "</table>\n",
       "</div>"
      ],
      "text/plain": [
       "                  Date            User  \\\n",
       "0  2020-03-05 12:38:42         Deni707   \n",
       "1  2020-03-05 12:38:18  pearl_ndlalane   \n",
       "2  2020-03-05 12:37:37       mrlechesa   \n",
       "3  2020-03-05 12:37:34      PhilarN_91   \n",
       "4  2020-03-05 12:37:33  Maliwa_Luyanda   \n",
       "\n",
       "                                               Tweet  \\\n",
       "0  The protests sparked last week by University o...   \n",
       "1                       @Katlego_MS @Yessirmaa -Wits   \n",
       "2  RT @NotInMyWatch: Students at Wits are going t...   \n",
       "3  RT @Didi_Azania: ATT: Wits students! This is h...   \n",
       "4  RT @Katlego_MS: Brand Ambassadors  needed from...   \n",
       "\n",
       "                                                 Url  \\\n",
       "0  https://twitter.com/Deni707/status/12355452719...   \n",
       "1  https://twitter.com/pearl_ndlalane/status/1235...   \n",
       "2  https://twitter.com/mrlechesa/status/123554499...   \n",
       "3  https://twitter.com/PhilarN_91/status/12355449...   \n",
       "4  https://twitter.com/Maliwa_Luyanda/status/1235...   \n",
       "\n",
       "                   Location Hashtags  \n",
       "0                       NaN      NaN  \n",
       "1  Rustenburg, South Africa      NaN  \n",
       "2              Johannesburg      NaN  \n",
       "3     Midrand, South Africa      NaN  \n",
       "4                  PE | CPT      NaN  "
      ]
     },
     "execution_count": 5,
     "metadata": {},
     "output_type": "execute_result"
    }
   ],
   "source": [
    " # Read in Raw Data and Assign Column Names where required\n",
    "col_names = ['Date', 'User', 'Tweet', 'Url', \"Location\", 'Hashtags']\n",
    "data = pd.read_csv(input_file, names=col_names)\n",
    "#data = pd.DataFrame(col_names = col_names) \n",
    "data.head() "
   ]
  },
  {
   "cell_type": "code",
   "execution_count": 6,
   "metadata": {},
   "outputs": [],
   "source": [
    "from nltk.corpus import stopwords\n",
    "additional  = ['rt','rts','retweet', 'RT']\n",
    "swords = set().union(stopwords.words('english'),additional)"
   ]
  },
  {
   "cell_type": "code",
   "execution_count": 7,
   "metadata": {},
   "outputs": [],
   "source": [
    "#swords"
   ]
  },
  {
   "cell_type": "code",
   "execution_count": 8,
   "metadata": {},
   "outputs": [],
   "source": [
    "data['cleaned_text'] = data['Tweet'].str.lower()\\\n",
    "          .str.replace('(@[a-z0-9]+)\\w+',' ')\\\n",
    "          .str.replace('(http\\S+)', ' ')\\\n",
    "          .str.replace('([^0-9a-z \\t])',' ')\\\n",
    "          .str.replace(' +',' ')\\\n",
    "          .apply(lambda x: [i for i in x.split() if not i in swords])"
   ]
  },
  {
   "cell_type": "code",
   "execution_count": 9,
   "metadata": {},
   "outputs": [],
   "source": [
    "def convert_list_string(mylist):\n",
    "    return \" \".join(mylist)"
   ]
  },
  {
   "cell_type": "code",
   "execution_count": 10,
   "metadata": {},
   "outputs": [],
   "source": [
    "from nltk.stem import PorterStemmer\n",
    "ps = PorterStemmer()\n",
    "data['stemmed'] = data['cleaned_text'].apply(lambda x: [ps.stem(i) for i in x if i != ''])"
   ]
  },
  {
   "cell_type": "code",
   "execution_count": 11,
   "metadata": {},
   "outputs": [
    {
     "data": {
      "text/plain": [
       "0    [protest, spark, last, week, univers, kwazulu,...\n",
       "1                                                [wit]\n",
       "Name: stemmed, dtype: object"
      ]
     },
     "execution_count": 11,
     "metadata": {},
     "output_type": "execute_result"
    }
   ],
   "source": [
    "data['stemmed'].head(n=2)"
   ]
  },
  {
   "cell_type": "code",
   "execution_count": 12,
   "metadata": {},
   "outputs": [
    {
     "data": {
      "text/plain": [
       "0    protests sparked last week university kwazulu ...\n",
       "1                                                 wits\n",
       "2    students wits going lot really heart breaking ...\n",
       "3       att wits students got study overseas awareness\n",
       "4    brand ambassadors needed following campuses uf...\n",
       "Name: cleaned_text, dtype: object"
      ]
     },
     "execution_count": 12,
     "metadata": {},
     "output_type": "execute_result"
    }
   ],
   "source": [
    "data['cleaned_text'] = data['cleaned_text'].apply(convert_list_string)\n",
    "data.cleaned_text.head()"
   ]
  },
  {
   "cell_type": "code",
   "execution_count": 13,
   "metadata": {},
   "outputs": [
    {
     "data": {
      "text/html": [
       "<div>\n",
       "<style scoped>\n",
       "    .dataframe tbody tr th:only-of-type {\n",
       "        vertical-align: middle;\n",
       "    }\n",
       "\n",
       "    .dataframe tbody tr th {\n",
       "        vertical-align: top;\n",
       "    }\n",
       "\n",
       "    .dataframe thead th {\n",
       "        text-align: right;\n",
       "    }\n",
       "</style>\n",
       "<table border=\"1\" class=\"dataframe\">\n",
       "  <thead>\n",
       "    <tr style=\"text-align: right;\">\n",
       "      <th></th>\n",
       "      <th>Date</th>\n",
       "      <th>User</th>\n",
       "      <th>Tweet</th>\n",
       "      <th>Url</th>\n",
       "      <th>Location</th>\n",
       "      <th>Hashtags</th>\n",
       "      <th>cleaned_text</th>\n",
       "      <th>stemmed</th>\n",
       "    </tr>\n",
       "  </thead>\n",
       "  <tbody>\n",
       "    <tr>\n",
       "      <td>0</td>\n",
       "      <td>2020-03-05 12:38:42</td>\n",
       "      <td>Deni707</td>\n",
       "      <td>The protests sparked last week by University o...</td>\n",
       "      <td>https://twitter.com/Deni707/status/12355452719...</td>\n",
       "      <td>NaN</td>\n",
       "      <td>NaN</td>\n",
       "      <td>protests sparked last week university kwazulu ...</td>\n",
       "      <td>[protest, spark, last, week, univers, kwazulu,...</td>\n",
       "    </tr>\n",
       "    <tr>\n",
       "      <td>1</td>\n",
       "      <td>2020-03-05 12:38:18</td>\n",
       "      <td>pearl_ndlalane</td>\n",
       "      <td>@Katlego_MS @Yessirmaa -Wits</td>\n",
       "      <td>https://twitter.com/pearl_ndlalane/status/1235...</td>\n",
       "      <td>Rustenburg, South Africa</td>\n",
       "      <td>NaN</td>\n",
       "      <td>wits</td>\n",
       "      <td>[wit]</td>\n",
       "    </tr>\n",
       "    <tr>\n",
       "      <td>2</td>\n",
       "      <td>2020-03-05 12:37:37</td>\n",
       "      <td>mrlechesa</td>\n",
       "      <td>RT @NotInMyWatch: Students at Wits are going t...</td>\n",
       "      <td>https://twitter.com/mrlechesa/status/123554499...</td>\n",
       "      <td>Johannesburg</td>\n",
       "      <td>NaN</td>\n",
       "      <td>students wits going lot really heart breaking ...</td>\n",
       "      <td>[student, wit, go, lot, realli, heart, break, ...</td>\n",
       "    </tr>\n",
       "    <tr>\n",
       "      <td>3</td>\n",
       "      <td>2020-03-05 12:37:34</td>\n",
       "      <td>PhilarN_91</td>\n",
       "      <td>RT @Didi_Azania: ATT: Wits students! This is h...</td>\n",
       "      <td>https://twitter.com/PhilarN_91/status/12355449...</td>\n",
       "      <td>Midrand, South Africa</td>\n",
       "      <td>NaN</td>\n",
       "      <td>att wits students got study overseas awareness</td>\n",
       "      <td>[att, wit, student, got, studi, oversea, awar]</td>\n",
       "    </tr>\n",
       "    <tr>\n",
       "      <td>4</td>\n",
       "      <td>2020-03-05 12:37:33</td>\n",
       "      <td>Maliwa_Luyanda</td>\n",
       "      <td>RT @Katlego_MS: Brand Ambassadors  needed from...</td>\n",
       "      <td>https://twitter.com/Maliwa_Luyanda/status/1235...</td>\n",
       "      <td>PE | CPT</td>\n",
       "      <td>NaN</td>\n",
       "      <td>brand ambassadors needed following campuses uf...</td>\n",
       "      <td>[brand, ambassador, need, follow, campus, uf, ...</td>\n",
       "    </tr>\n",
       "  </tbody>\n",
       "</table>\n",
       "</div>"
      ],
      "text/plain": [
       "                  Date            User  \\\n",
       "0  2020-03-05 12:38:42         Deni707   \n",
       "1  2020-03-05 12:38:18  pearl_ndlalane   \n",
       "2  2020-03-05 12:37:37       mrlechesa   \n",
       "3  2020-03-05 12:37:34      PhilarN_91   \n",
       "4  2020-03-05 12:37:33  Maliwa_Luyanda   \n",
       "\n",
       "                                               Tweet  \\\n",
       "0  The protests sparked last week by University o...   \n",
       "1                       @Katlego_MS @Yessirmaa -Wits   \n",
       "2  RT @NotInMyWatch: Students at Wits are going t...   \n",
       "3  RT @Didi_Azania: ATT: Wits students! This is h...   \n",
       "4  RT @Katlego_MS: Brand Ambassadors  needed from...   \n",
       "\n",
       "                                                 Url  \\\n",
       "0  https://twitter.com/Deni707/status/12355452719...   \n",
       "1  https://twitter.com/pearl_ndlalane/status/1235...   \n",
       "2  https://twitter.com/mrlechesa/status/123554499...   \n",
       "3  https://twitter.com/PhilarN_91/status/12355449...   \n",
       "4  https://twitter.com/Maliwa_Luyanda/status/1235...   \n",
       "\n",
       "                   Location Hashtags  \\\n",
       "0                       NaN      NaN   \n",
       "1  Rustenburg, South Africa      NaN   \n",
       "2              Johannesburg      NaN   \n",
       "3     Midrand, South Africa      NaN   \n",
       "4                  PE | CPT      NaN   \n",
       "\n",
       "                                        cleaned_text  \\\n",
       "0  protests sparked last week university kwazulu ...   \n",
       "1                                               wits   \n",
       "2  students wits going lot really heart breaking ...   \n",
       "3     att wits students got study overseas awareness   \n",
       "4  brand ambassadors needed following campuses uf...   \n",
       "\n",
       "                                             stemmed  \n",
       "0  [protest, spark, last, week, univers, kwazulu,...  \n",
       "1                                              [wit]  \n",
       "2  [student, wit, go, lot, realli, heart, break, ...  \n",
       "3     [att, wit, student, got, studi, oversea, awar]  \n",
       "4  [brand, ambassador, need, follow, campus, uf, ...  "
      ]
     },
     "execution_count": 13,
     "metadata": {},
     "output_type": "execute_result"
    }
   ],
   "source": [
    "data.head()"
   ]
  },
  {
   "cell_type": "code",
   "execution_count": 14,
   "metadata": {},
   "outputs": [],
   "source": [
    "# data['stemmed'] = data['stemmed'].apply(convert_list_string)\n",
    "# data.stemmed.head()"
   ]
  },
  {
   "cell_type": "markdown",
   "metadata": {},
   "source": [
    "### 2.2.2: Remove Emojis\n",
    "___"
   ]
  },
  {
   "cell_type": "code",
   "execution_count": 15,
   "metadata": {},
   "outputs": [],
   "source": [
    "def remove_emojis(input_text):\n",
    "    return input_text.encode('ascii', 'ignore').decode('ascii')"
   ]
  },
  {
   "cell_type": "code",
   "execution_count": 16,
   "metadata": {},
   "outputs": [],
   "source": [
    "data.Tweet = data.Tweet.apply(func = remove_emojis)"
   ]
  },
  {
   "cell_type": "markdown",
   "metadata": {},
   "source": [
    "### 2.2.3: Remove Unnecessary Whitespaces\n",
    "\n",
    "___"
   ]
  },
  {
   "cell_type": "code",
   "execution_count": 17,
   "metadata": {},
   "outputs": [],
   "source": [
    "def clean_whitespace(input_text):\n",
    "    clean_text = input_text.strip()\n",
    "    return(clean_text)"
   ]
  },
  {
   "cell_type": "code",
   "execution_count": 18,
   "metadata": {},
   "outputs": [],
   "source": [
    "data.Tweet = data.Tweet.apply(func = clean_whitespace)"
   ]
  },
  {
   "cell_type": "markdown",
   "metadata": {},
   "source": [
    "### 2.2.4: Replace Newline Character\n",
    "___"
   ]
  },
  {
   "cell_type": "code",
   "execution_count": 19,
   "metadata": {},
   "outputs": [],
   "source": [
    "def replace_newline(input_text):\n",
    "    clean_text = input_text.replace(\"\\n\",\".\")\n",
    "    return(clean_text)"
   ]
  },
  {
   "cell_type": "code",
   "execution_count": 20,
   "metadata": {},
   "outputs": [],
   "source": [
    "data.Tweet = data.Tweet.apply(func = replace_newline)"
   ]
  },
  {
   "cell_type": "markdown",
   "metadata": {},
   "source": [
    "### Save the Processed Corpus to Disk"
   ]
  },
  {
   "cell_type": "code",
   "execution_count": 21,
   "metadata": {},
   "outputs": [],
   "source": [
    "data.to_csv(output_file, index=False)"
   ]
  }
 ],
 "metadata": {
  "kernelspec": {
   "display_name": "Python 3",
   "language": "python",
   "name": "python3"
  },
  "language_info": {
   "codemirror_mode": {
    "name": "ipython",
    "version": 3
   },
   "file_extension": ".py",
   "mimetype": "text/x-python",
   "name": "python",
   "nbconvert_exporter": "python",
   "pygments_lexer": "ipython3",
   "version": "3.7.4"
  }
 },
 "nbformat": 4,
 "nbformat_minor": 4
}
